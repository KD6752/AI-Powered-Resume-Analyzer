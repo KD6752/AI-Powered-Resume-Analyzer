{
 "cells": [
  {
   "cell_type": "code",
   "execution_count": null,
   "metadata": {},
   "outputs": [
    {
     "name": "stdout",
     "output_type": "stream",
     "text": [
      "**Strengths:**\n",
      "\n",
      "* **Strong technical skills:** Proficient in HTML, CSS, JavaScript, React, Node.js, and MongoDB.\n",
      "* **Relevant work experience:** Completed several internships and freelance projects in web development and software engineering.\n",
      "* **Projects and portfolio:** Showcases a variety of projects, including full-stack web applications, automation scripts, and machine learning models.\n",
      "* **Education:** Graduating with a Bachelor's degree in Computer Science from a reputable university with a high GPA.\n",
      "* **Clear and concise:** The resume is well-organized and easy to read, with key information presented in a concise and informative manner.\n",
      "\n",
      "**Areas for Improvement:**\n",
      "\n",
      "* **Quantified results:** The resume could benefit from including specific, quantifiable results from previous projects or work experiences. For example, instead of saying \"Developed a web application,\" you could say \"Developed a web application that increased website traffic by 20%.\"\n",
      "* **Soft skills:** While the resume highlights technical abilities, it could be enhanced by mentioning soft skills such as communication, teamwork, and problem-solving.\n",
      "* **More significant projects:** The projects listed in the resume are mostly smaller-scale. Including some larger-scale projects or contributions to open-source projects would further demonstrate the candidate's abilities.\n",
      "* **Career objective:** The resume lacks a clear career objective or statement of career goals. This could help recruiters understand the candidate's aspirations.\n",
      "* **Proofreading:** There is a minor grammatical error in the Skills section (should be \"Proficient in...\" instead of \"Proficient at...\").\n",
      "\n",
      "**Overall:**\n",
      "\n",
      "This resume is strong and effectively showcases the candidate's technical skills and work experience. However, it could be improved by including quantifiable results, soft skills, and more significant projects to make it even more impactful.\n"
     ]
    }
   ],
   "source": [
    "import google.generativeai as genai\n",
    "from dotenv import load_dotenv\n",
    "import os\n",
    "import pdfplumber\n",
    "\n",
    "# Load the environment variables from the .env file\n",
    "load_dotenv()\n",
    "GEMINI_API_KEY=os.environ.get(\"GEMINI_API_KEY\")\n",
    "\n",
    "\n",
    "# Set your API key\n",
    "genai.configure(api_key=GEMINI_API_KEY)\n",
    "\n",
    "\n",
    "# Initialize the model\n",
    "model = genai.GenerativeModel(\"gemini-pro\")\n",
    "\n",
    "# Generate a response\n",
    "\n",
    "response = model.generate_content(\"Analyze this resume...\")\n",
    "\n"
   ]
  },
  {
   "cell_type": "code",
   "execution_count": null,
   "metadata": {},
   "outputs": [],
   "source": [
    " #Set up Gemini API\n",
    "genai.configure(api_key=GEMINI_API_KEY)\n",
    "model = genai.GenerativeModel(\"gemini-pro\")\n",
    "\n",
    "# Extract text from a PDF\n",
    "def extract_text_from_pdf(pdf_path):\n",
    "    with pdfplumber.open(pdf_path) as pdf:\n",
    "        return \"\\n\".join(page.extract_text() for page in pdf.pages if page.extract_text())\n",
    "\n",
    "# Load and analyze resume\n",
    "resume_text = extract_text_from_pdf(\"resume.pdf\")\n",
    "response = model.generate_content(f\"Analyze this resume:\\n{resume_text}\")\n",
    "print(response.text)"
   ]
  },
  {
   "cell_type": "code",
   "execution_count": null,
   "metadata": {},
   "outputs": [],
   "source": []
  }
 ],
 "metadata": {
  "kernelspec": {
   "display_name": "resume_analyser_bot",
   "language": "python",
   "name": "python3"
  },
  "language_info": {
   "codemirror_mode": {
    "name": "ipython",
    "version": 3
   },
   "file_extension": ".py",
   "mimetype": "text/x-python",
   "name": "python",
   "nbconvert_exporter": "python",
   "pygments_lexer": "ipython3",
   "version": "3.9.7"
  }
 },
 "nbformat": 4,
 "nbformat_minor": 2
}
